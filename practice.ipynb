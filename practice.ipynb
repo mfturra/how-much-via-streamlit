{
 "cells": [
  {
   "cell_type": "code",
   "execution_count": null,
   "id": "ddac3ae0",
   "metadata": {},
   "outputs": [],
   "source": [
    "import os\n",
    "import json\n",
    "import requests\n",
    "from dotenv import load_dotenv\n",
    "\n",
    "load_dotenv()\n",
    "csc = os.getenv('DOMAIN')\n",
    "api_key = os.getenv('COLLEGE_SCORECARD_API')\n",
    "\n",
    "url = f'{csc}?api_key={api_key}&school.state=MA'\n",
    "\n",
    "# A GET request to the API\n",
    "response = requests.get(url)\n",
    "pretty_data = json.loads(response.text)\n",
    "\n",
    "# Print the response\n",
    "# print(json.dumps(pretty_data, indent=2))\n",
    "\n",
    "prelim_output = pretty_data[\"results\"][\"latest\"][\"school\"][\"name\"][0]\n",
    "print(prelim_output)\n"
   ]
  }
 ],
 "metadata": {
  "kernelspec": {
   "display_name": "Python 3",
   "language": "python",
   "name": "python3"
  },
  "language_info": {
   "name": "python",
   "version": "3.13.2"
  }
 },
 "nbformat": 4,
 "nbformat_minor": 5
}
